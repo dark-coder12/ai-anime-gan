{
 "cells": [
  {
   "cell_type": "markdown",
   "metadata": {},
   "source": [
    "## Imports"
   ]
  },
  {
   "cell_type": "code",
   "execution_count": null,
   "metadata": {
    "vscode": {
     "languageId": "plaintext"
    }
   },
   "outputs": [],
   "source": [
    "import os\n",
    "import numpy as np\n",
    "import matplotlib.pyplot as plt\n",
    "import matplotlib.image as mpimg\n",
    "import random\n",
    "import warnings\n",
    "\n",
    "import tensorflow as tf\n",
    "from tensorflow import keras\n",
    "from tensorflow.keras.models import Sequential, Model\n",
    "from tensorflow.keras.preprocessing.image import load_img, img_to_array\n",
    "from tensorflow.keras import layers\n",
    "from tensorflow.keras.optimizers import Adam\n",
    "from tensorflow.keras.losses import BinaryCrossentropy\n",
    "\n",
    "\n",
    "warnings.filterwarnings('ignore')"
   ]
  },
  {
   "cell_type": "markdown",
   "metadata": {},
   "source": [
    "## Reading images"
   ]
  },
  {
   "cell_type": "code",
   "execution_count": null,
   "metadata": {
    "vscode": {
     "languageId": "plaintext"
    }
   },
   "outputs": [],
   "source": [
    "all_images = []\n",
    "\n",
    "for image in os.listdir(\"data\"):\n",
    "    image_path = os.path.join(\"data\", image)\n",
    "    all_images.append(image_path)"
   ]
  },
  {
   "cell_type": "markdown",
   "metadata": {},
   "source": [
    "## Showing sample images"
   ]
  },
  {
   "cell_type": "code",
   "execution_count": null,
   "metadata": {
    "vscode": {
     "languageId": "plaintext"
    }
   },
   "outputs": [],
   "source": [
    "selected_images = random.sample(all_images, 6)\n",
    "\n",
    "fig, ax = plt.subplots(1, 6, figsize=(35, 35))\n",
    "\n",
    "for i, image_path in enumerate(selected_images):\n",
    "    img = mpimg.imread(image_path)\n",
    "    ax[i].imshow(img)\n",
    "    ax[i].axis('off')\n",
    "\n",
    "plt.show()"
   ]
  },
  {
   "cell_type": "markdown",
   "metadata": {},
   "source": [
    "## Loading training images"
   ]
  },
  {
   "cell_type": "code",
   "execution_count": null,
   "metadata": {
    "vscode": {
     "languageId": "plaintext"
    }
   },
   "outputs": [],
   "source": [
    "train_images = [img_to_array(load_img(path)) for path in all_images]\n",
    "train_images = np.array(train_images, dtype='float32')\n",
    "\n",
    "train_images = (train_images - 127.5) / 127.5\n",
    "train_images = train_images.reshape(train_images.shape[0], 64, 64, 3)"
   ]
  },
  {
   "cell_type": "markdown",
   "metadata": {},
   "source": [
    "## GAN generator"
   ]
  },
  {
   "cell_type": "code",
   "execution_count": null,
   "metadata": {
    "vscode": {
     "languageId": "plaintext"
    }
   },
   "outputs": [],
   "source": [
    "generator = Sequential(name='generator')\n",
    "\n",
    "generator.add(layers.Dense(8 * 8 * 512, input_dim=100))\n",
    "generator.add(layers.ReLU())\n",
    "generator.add(layers.Reshape((8, 8, 512)))\n",
    "\n",
    "generator.add(layers.Conv2DTranspose(256, (4, 4), strides=(2, 2), padding='same', kernel_initializer=keras.initializers.RandomNormal(mean=0.0, stddev=0.02)))\n",
    "generator.add(layers.ReLU())\n",
    "\n",
    "generator.add(layers.Conv2DTranspose(128, (4, 4), strides=(2, 2), padding='same', kernel_initializer=keras.initializers.RandomNormal(mean=0.0, stddev=0.02)))\n",
    "generator.add(layers.ReLU())\n",
    "\n",
    "generator.add(layers.Conv2DTranspose(64, (4, 4), strides=(2, 2), padding='same', kernel_initializer=keras.initializers.RandomNormal(mean=0.0, stddev=0.02)))\n",
    "generator.add(layers.ReLU())\n",
    "\n",
    "generator.add(layers.Conv2D(3, (4, 4), padding='same', activation='tanh'))\n",
    "\n",
    "generator.summary()"
   ]
  },
  {
   "cell_type": "markdown",
   "metadata": {},
   "source": [
    "## GAN discriminator"
   ]
  },
  {
   "cell_type": "code",
   "execution_count": null,
   "metadata": {
    "vscode": {
     "languageId": "plaintext"
    }
   },
   "outputs": [],
   "source": [
    "discriminator = Sequential(name='discriminator')\n",
    "input_shape = (64, 64, 3)\n",
    "\n",
    "discriminator.add(layers.Conv2D(64, (4, 4), strides=(2, 2), padding='same', input_shape=input_shape))\n",
    "discriminator.add(layers.BatchNormalization())\n",
    "discriminator.add(layers.LeakyReLU(alpha=0.2))\n",
    "\n",
    "discriminator.add(layers.Conv2D(128, (4, 4), strides=(2, 2), padding='same'))\n",
    "discriminator.add(layers.BatchNormalization())\n",
    "discriminator.add(layers.LeakyReLU(alpha=0.2))\n",
    "\n",
    "discriminator.add(layers.Conv2D(128, (4, 4), strides=(2, 2), padding='same'))\n",
    "discriminator.add(layers.BatchNormalization())\n",
    "discriminator.add(layers.LeakyReLU(alpha=0.2))\n",
    "\n",
    "discriminator.add(layers.Flatten())\n",
    "discriminator.add(layers.Dropout(0.3))\n",
    "\n",
    "discriminator.add(layers.Dense(1, activation='sigmoid'))\n",
    "\n",
    "discriminator.summary()"
   ]
  },
  {
   "cell_type": "markdown",
   "metadata": {},
   "source": [
    "## DCGAN class implementation"
   ]
  },
  {
   "cell_type": "code",
   "execution_count": null,
   "metadata": {
    "vscode": {
     "languageId": "plaintext"
    }
   },
   "outputs": [],
   "source": [
    "class DCGAN(keras.Model):\n",
    "    def __init__(self, generator, discriminator, latent_dim):\n",
    "        super(DCGAN, self).__init__()\n",
    "        self.generator = generator\n",
    "        self.discriminator = discriminator\n",
    "        self.latent_dim = latent_dim\n",
    "        self.discriminator_loss_metric = keras.metrics.Mean(name='discriminator_loss')\n",
    "        self.generator_loss_metric = keras.metrics.Mean(name='generator_loss')\n",
    "        \n",
    "    @property\n",
    "    def metrics(self):\n",
    "        return [self.discriminator_loss_metric, self.generator_loss_metric]\n",
    "    \n",
    "    def compile(self, g_opt, d_opt, loss_fn):\n",
    "        super(DCGAN, self).compile()\n",
    "        self.g_opt = g_opt\n",
    "        self.d_opt = d_opt\n",
    "        self.loss_fn = loss_fn\n",
    "        \n",
    "    def train_step(self, real_imgs):\n",
    "        batch_size = tf.shape(real_imgs)[0]\n",
    "        noise = tf.random.normal(shape=(batch_size, self.latent_dim))\n",
    "        \n",
    "        with tf.GradientTape() as tape:\n",
    "            pred_real = self.discriminator(real_imgs, training=True)\n",
    "            real_labels = tf.ones((batch_size, 1)) + 0.05 * tf.random.uniform((batch_size, 1))\n",
    "            discriminator_loss_real = self.loss_fn(real_labels, pred_real)\n",
    "            \n",
    "            fake_imgs = self.generator(noise, training=True)\n",
    "            pred_fake = self.discriminator(fake_imgs, training=True)\n",
    "            fake_labels = tf.zeros((batch_size, 1))\n",
    "            discriminator_loss_fake = self.loss_fn(fake_labels, pred_fake)\n",
    "            \n",
    "            discriminator_loss = (discriminator_loss_real + discriminator_loss_fake) / 2\n",
    "            \n",
    "        gradients = tape.gradient(discriminator_loss, self.discriminator.trainable_variables)\n",
    "        self.d_opt.apply_gradients(zip(gradients, self.discriminator.trainable_variables))\n",
    "        \n",
    "      \n",
    "        labels = tf.ones((batch_size, 1))\n",
    "        with tf.GradientTape() as tape:\n",
    "            fake_imgs = self.generator(noise, training=True)\n",
    "            pred_fake = self.discriminator(fake_imgs, training=True)\n",
    "            generator_loss = self.loss_fn(labels, pred_fake)\n",
    "            \n",
    "        gradients = tape.gradient(generator_loss, self.generator.trainable_variables)\n",
    "        self.g_opt.apply_gradients(zip(gradients, self.generator.trainable_variables))\n",
    "        \n",
    "        self.discriminator_loss_metric.update_state(discriminator_loss)\n",
    "        self.generator_loss_metric.update_state(generator_loss)\n",
    "        \n",
    "        return {'discriminator_loss': self.discriminator_loss_metric.result(),\n",
    "                'generator_loss': self.generator_loss_metric.result()}"
   ]
  },
  {
   "cell_type": "markdown",
   "metadata": {},
   "source": [
    "## DCGANMonitor class implementation"
   ]
  },
  {
   "cell_type": "code",
   "execution_count": null,
   "metadata": {
    "vscode": {
     "languageId": "plaintext"
    }
   },
   "outputs": [],
   "source": [
    "class DCGANMonitor(keras.callbacks.Callback):\n",
    "    def __init__(self, num_imgs=25, latent_dim=100):\n",
    "        self.num_imgs = num_imgs\n",
    "        self.latent_dim = latent_dim\n",
    "        self.noise = tf.random.normal([25, latent_dim])\n",
    "\n",
    "    def on_epoch_end(self, epoch, logs=None):\n",
    "        gen_imgs = self.model.generator(self.noise)\n",
    "        gen_imgs = (gen_imgs * 127.5) + 127.5\n",
    "\n",
    "        fig = plt.figure(figsize=(8, 8))\n",
    "        for i in range(self.num_imgs):\n",
    "            plt.subplot(5, 5, i+1)\n",
    "            img = array_to_img(gen_imgs[i])\n",
    "            plt.imshow(img)\n",
    "            plt.axis('off')\n",
    "        plt.show()\n",
    "    \n",
    "    def on_train_end(self, logs=None):\n",
    "        self.model.generator.save('generator.h5')\n",
    "        self.model.discriminator.save('discriminator.h5')\n",
    "\n",
    "dcgan = DCGAN(generator, discriminator, 100)"
   ]
  },
  {
   "cell_type": "markdown",
   "metadata": {},
   "source": [
    "## Compiling and fitting the model"
   ]
  },
  {
   "cell_type": "code",
   "execution_count": null,
   "metadata": {
    "vscode": {
     "languageId": "plaintext"
    }
   },
   "outputs": [],
   "source": [
    "dcgan.compile(\n",
    "    g_opt=Adam(learning_rate=0.0003, beta_1=0.5),\n",
    "    d_opt=Adam(learning_rate=0.0001, beta_1=0.5),\n",
    "    loss_fn=BinaryCrossentropy()\n",
    ")\n",
    "\n",
    "N_EPOCHS = 55\n",
    "dcgan.fit(train_images, epochs=N_EPOCHS, callbacks=[DCGANMonitor()])\n",
    "\n"
   ]
  },
  {
   "cell_type": "markdown",
   "metadata": {},
   "source": [
    "## Making new anime faces"
   ]
  },
  {
   "cell_type": "code",
   "execution_count": null,
   "metadata": {
    "vscode": {
     "languageId": "plaintext"
    }
   },
   "outputs": [],
   "source": [
    "import tensorflow as tf\n",
    "from tensorflow.keras.preprocessing.image import array_to_img\n",
    "import matplotlib.pyplot as plt\n",
    "\n",
    "generator = tf.keras.models.load_model('generator.h5')\n",
    "discriminator = tf.keras.models.load_model('discriminator.h5')\n",
    "\n",
    "generator_optimizer = tf.keras.optimizers.Adam(learning_rate=0.0002, beta_1=0.5)\n",
    "generator_loss = tf.keras.losses.BinaryCrossentropy(from_logits=True)\n",
    "\n",
    "discriminator_optimizer = tf.keras.optimizers.Adam(learning_rate=0.0002, beta_1=0.5)\n",
    "\n",
    "discriminator_loss = tf.keras.losses.BinaryCrossentropy(from_logits=True)\n",
    "\n",
    "generator.compile(optimizer=generator_optimizer, loss=generator_loss)\n",
    "\n",
    "discriminator.compile(optimizer=discriminator_optimizer, loss=discriminator_loss)\n",
    "\n",
    "def create_dcgan(generator, discriminator):\n",
    "    discriminator.trainable = False \n",
    "    dcgan_input = tf.keras.Input(shape=(100,)) \n",
    "    generated_image = generator(dcgan_input)\n",
    "    dcgan_output = discriminator(generated_image)\n",
    "    dcgan = tf.keras.Model(dcgan_input, dcgan_output)\n",
    "    dcgan.compile(optimizer=generator_optimizer, loss=generator_loss)\n",
    "    return dcgan\n",
    "\n",
    "dcgan = create_dcgan(generator, discriminator)\n",
    "\n",
    "noise = tf.random.normal([1, 100]) \n",
    "\n",
    "g_img = generator.predict(noise)\n",
    "\n",
    "g_img = (g_img * 127.5) + 127.5\n",
    "\n",
    "img = array_to_img(g_img[0])\n",
    "\n",
    "fig = plt.figure(figsize=(3, 3))\n",
    "plt.imshow(img)\n",
    "plt.axis('off')\n",
    "plt.show()"
   ]
  }
 ],
 "metadata": {
  "language_info": {
   "name": "python"
  },
  "orig_nbformat": 4
 },
 "nbformat": 4,
 "nbformat_minor": 2
}
